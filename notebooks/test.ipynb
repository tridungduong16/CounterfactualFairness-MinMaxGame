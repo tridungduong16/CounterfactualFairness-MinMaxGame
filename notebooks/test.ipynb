{
 "cells": [
  {
   "cell_type": "code",
   "execution_count": 1,
   "id": "consecutive-alexandria",
   "metadata": {},
   "outputs": [],
   "source": [
    "import tensorflow as tf\n",
    "import torch "
   ]
  },
  {
   "cell_type": "code",
   "execution_count": 2,
   "id": "aquatic-driving",
   "metadata": {},
   "outputs": [],
   "source": [
    "def _independent_straight_through_sampling(rationale_logits):\n",
    "    \"\"\"\n",
    "    Straight through sampling.\n",
    "    Outputs:\n",
    "        z -- shape (batch_size, sequence_length, 2)        \n",
    "    \"\"\"\n",
    "    z = tf.nn.softmax(rationale_logits)\n",
    "    z_hard = tf.cast(tf.equal(z, tf.reduce_max(z, -1, keep_dims=True)),\n",
    "                     z.dtype)\n",
    "    z = tf.stop_gradient(z_hard - z) + z\n",
    "\n",
    "    return z"
   ]
  },
  {
   "cell_type": "code",
   "execution_count": 4,
   "id": "developed-material",
   "metadata": {},
   "outputs": [
    {
     "name": "stdout",
     "output_type": "stream",
     "text": [
      "tensor([[0.6900, 0.3100],\n",
      "        [0.6457, 0.3543],\n",
      "        [0.5987, 0.4013]])\n",
      "\n",
      "\n",
      "tensor([[0.6900],\n",
      "        [0.6457],\n",
      "        [0.5987]])\n",
      "tensor([[1., 0.],\n",
      "        [1., 0.],\n",
      "        [1., 0.]])\n"
     ]
    },
    {
     "name": "stderr",
     "output_type": "stream",
     "text": [
      "<ipython-input-4-2a0d3a285849>:7: UserWarning: Implicit dimension choice for softmax has been deprecated. Change the call to include dim=X as an argument.\n",
      "  z = torch.nn.functional.softmax(rationale_logits)\n"
     ]
    }
   ],
   "source": [
    "rationale_logits = [\n",
    "    [0.9, 0.1],\n",
    "    [0.8, 0.2],\n",
    "    [0.7, 0.3]\n",
    "]\n",
    "rationale_logits = torch.tensor(rationale_logits)\n",
    "z = torch.nn.functional.softmax(rationale_logits)\n",
    "print(z)\n",
    "print(\"\\n\")\n",
    "reduce_max = torch.max(z, dim = 1, keepdim=False).values.reshape(-1,1)\n",
    "print(reduce_max)\n",
    "equal = z.eq(reduce_max)\n",
    "z_hard = equal.type(torch.FloatTensor)\n",
    "z_soft = (z_hard - z).detach_() + z\n",
    "print(z_soft)"
   ]
  },
  {
   "cell_type": "code",
   "execution_count": 26,
   "id": "regular-finance",
   "metadata": {},
   "outputs": [
    {
     "data": {
      "text/plain": [
       "torch.Size([3, 2])"
      ]
     },
     "execution_count": 26,
     "metadata": {},
     "output_type": "execute_result"
    }
   ],
   "source": [
    "rationale_logits.shape"
   ]
  },
  {
   "cell_type": "code",
   "execution_count": 29,
   "id": "endangered-metadata",
   "metadata": {},
   "outputs": [],
   "source": [
    "weight = torch.tensor([1,0])"
   ]
  },
  {
   "cell_type": "code",
   "execution_count": 30,
   "id": "portable-wrist",
   "metadata": {},
   "outputs": [
    {
     "data": {
      "text/plain": [
       "tensor([[0.9000, 0.0000],\n",
       "        [0.8000, 0.0000],\n",
       "        [0.7000, 0.0000]])"
      ]
     },
     "execution_count": 30,
     "metadata": {},
     "output_type": "execute_result"
    }
   ],
   "source": [
    "rationale_logits*weight"
   ]
  },
  {
   "cell_type": "code",
   "execution_count": 6,
   "id": "behind-crawford",
   "metadata": {},
   "outputs": [
    {
     "data": {
      "text/plain": [
       "(array([2, 5, 7]), tensor([2, 5, 7]))"
      ]
     },
     "execution_count": 6,
     "metadata": {},
     "output_type": "execute_result"
    }
   ],
   "source": [
    "import numpy as np\n",
    "X = np.array([1,2,3,4,5,6,7,8,9])\n",
    "Y = torch.tensor(X)\n",
    "index_ = [1,4,6]\n",
    "X[index_], Y[index_]"
   ]
  },
  {
   "cell_type": "code",
   "execution_count": 8,
   "id": "adequate-audio",
   "metadata": {},
   "outputs": [],
   "source": [
    "from torch.autograd import Variable\n"
   ]
  },
  {
   "cell_type": "code",
   "execution_count": 11,
   "id": "deluxe-heritage",
   "metadata": {},
   "outputs": [
    {
     "ename": "RuntimeError",
     "evalue": "Only Tensors of floating point and complex dtype can require gradients",
     "output_type": "error",
     "traceback": [
      "\u001b[0;31m---------------------------------------------------------------------------\u001b[0m",
      "\u001b[0;31mRuntimeError\u001b[0m                              Traceback (most recent call last)",
      "\u001b[0;32m<ipython-input-11-1f0929acd038>\u001b[0m in \u001b[0;36m<module>\u001b[0;34m\u001b[0m\n\u001b[0;32m----> 1\u001b[0;31m \u001b[0mVariable\u001b[0m\u001b[0;34m(\u001b[0m\u001b[0mtorch\u001b[0m\u001b[0;34m.\u001b[0m\u001b[0mtensor\u001b[0m\u001b[0;34m(\u001b[0m\u001b[0;34m[\u001b[0m\u001b[0;36m1\u001b[0m\u001b[0;34m]\u001b[0m\u001b[0;34m*\u001b[0m\u001b[0;36m10\u001b[0m\u001b[0;34m)\u001b[0m\u001b[0;34m,\u001b[0m \u001b[0mrequires_grad\u001b[0m\u001b[0;34m=\u001b[0m\u001b[0;32mTrue\u001b[0m\u001b[0;34m)\u001b[0m\u001b[0;34m\u001b[0m\u001b[0;34m\u001b[0m\u001b[0m\n\u001b[0m",
      "\u001b[0;31mRuntimeError\u001b[0m: Only Tensors of floating point and complex dtype can require gradients"
     ]
    }
   ],
   "source": [
    "Variable(torch.tensor([1]*10), requires_grad=True)"
   ]
  },
  {
   "cell_type": "code",
   "execution_count": 14,
   "id": "absolute-extent",
   "metadata": {},
   "outputs": [],
   "source": [
    "W = torch.nn.Parameter(torch.randn(5))\n",
    "W.requires_grad = True"
   ]
  },
  {
   "cell_type": "code",
   "execution_count": 15,
   "id": "special-importance",
   "metadata": {},
   "outputs": [
    {
     "data": {
      "text/plain": [
       "Parameter containing:\n",
       "tensor([ 0.0492, -0.2416, -0.4058,  1.7760,  0.9588], requires_grad=True)"
      ]
     },
     "execution_count": 15,
     "metadata": {},
     "output_type": "execute_result"
    }
   ],
   "source": [
    "W"
   ]
  },
  {
   "cell_type": "code",
   "execution_count": 16,
   "id": "verbal-speech",
   "metadata": {},
   "outputs": [
    {
     "data": {
      "text/plain": [
       "0.8856730000000002"
      ]
     },
     "execution_count": 16,
     "metadata": {},
     "output_type": "execute_result"
    }
   ],
   "source": [
    "1.3219*0.67"
   ]
  },
  {
   "cell_type": "code",
   "execution_count": 17,
   "id": "catholic-bryan",
   "metadata": {},
   "outputs": [
    {
     "data": {
      "text/plain": [
       "tensor(1)"
      ]
     },
     "execution_count": 17,
     "metadata": {},
     "output_type": "execute_result"
    }
   ],
   "source": [
    "torch.max(torch.tensor(1), torch.tensor(0))"
   ]
  },
  {
   "cell_type": "code",
   "execution_count": 18,
   "id": "optical-slide",
   "metadata": {},
   "outputs": [],
   "source": [
    "loss = torch.nn.CrossEntropyLoss()\n",
    "input = torch.randn(3, 5, requires_grad=True)\n",
    "target = torch.empty(3, dtype=torch.long).random_(5)\n",
    "output = loss(input, target)"
   ]
  },
  {
   "cell_type": "code",
   "execution_count": 19,
   "id": "imported-closing",
   "metadata": {},
   "outputs": [
    {
     "data": {
      "text/plain": [
       "tensor([[-1.3380, -1.5622,  0.2470, -2.5529, -0.2602],\n",
       "        [ 0.5406, -0.7182, -1.1205, -0.8201, -0.7561],\n",
       "        [ 0.2732,  0.7713, -0.6576,  0.8543, -1.3784]], requires_grad=True)"
      ]
     },
     "execution_count": 19,
     "metadata": {},
     "output_type": "execute_result"
    }
   ],
   "source": [
    "input"
   ]
  },
  {
   "cell_type": "code",
   "execution_count": 20,
   "id": "exact-handy",
   "metadata": {},
   "outputs": [
    {
     "data": {
      "text/plain": [
       "tensor([4, 3, 1])"
      ]
     },
     "execution_count": 20,
     "metadata": {},
     "output_type": "execute_result"
    }
   ],
   "source": [
    "target"
   ]
  },
  {
   "cell_type": "code",
   "execution_count": 22,
   "id": "understood-client",
   "metadata": {},
   "outputs": [],
   "source": [
    "m = torch.nn.Sigmoid()\n",
    "loss = torch.nn.BCELoss()\n",
    "input = torch.randn(3, requires_grad=True)\n",
    "target = torch.empty(3).random_(2)\n",
    "output = loss(m(input), target)"
   ]
  },
  {
   "cell_type": "code",
   "execution_count": 23,
   "id": "amazing-reverse",
   "metadata": {},
   "outputs": [
    {
     "data": {
      "text/plain": [
       "tensor([-0.2614, -0.6342, -0.3514], requires_grad=True)"
      ]
     },
     "execution_count": 23,
     "metadata": {},
     "output_type": "execute_result"
    }
   ],
   "source": [
    "input"
   ]
  },
  {
   "cell_type": "code",
   "execution_count": 24,
   "id": "billion-belief",
   "metadata": {},
   "outputs": [
    {
     "data": {
      "text/plain": [
       "tensor([0., 1., 1.])"
      ]
     },
     "execution_count": 24,
     "metadata": {},
     "output_type": "execute_result"
    }
   ],
   "source": [
    "target"
   ]
  },
  {
   "cell_type": "code",
   "execution_count": 26,
   "id": "powerful-copyright",
   "metadata": {},
   "outputs": [],
   "source": [
    "loss = torch.nn.CrossEntropyLoss()\n",
    "input = torch.randn(3, 5, requires_grad=True)\n",
    "target = torch.empty(3, dtype=torch.long).random_(5)\n",
    "output = loss(input, target)"
   ]
  },
  {
   "cell_type": "code",
   "execution_count": 27,
   "id": "random-tomorrow",
   "metadata": {},
   "outputs": [
    {
     "data": {
      "text/plain": [
       "tensor(2.0806, grad_fn=<NllLossBackward>)"
      ]
     },
     "execution_count": 27,
     "metadata": {},
     "output_type": "execute_result"
    }
   ],
   "source": [
    "output"
   ]
  },
  {
   "cell_type": "code",
   "execution_count": 28,
   "id": "comfortable-muscle",
   "metadata": {},
   "outputs": [
    {
     "data": {
      "text/plain": [
       "tensor([[-0.0093, -0.3117, -0.4509, -0.1809, -1.4805],\n",
       "        [-0.9836, -0.2253,  1.1149, -0.0768, -0.9962],\n",
       "        [-0.6079, -0.1123, -2.2882, -1.1137, -1.3450]], requires_grad=True)"
      ]
     },
     "execution_count": 28,
     "metadata": {},
     "output_type": "execute_result"
    }
   ],
   "source": [
    "input"
   ]
  },
  {
   "cell_type": "code",
   "execution_count": 29,
   "id": "accomplished-president",
   "metadata": {},
   "outputs": [
    {
     "data": {
      "text/plain": [
       "tensor([2, 0, 3])"
      ]
     },
     "execution_count": 29,
     "metadata": {},
     "output_type": "execute_result"
    }
   ],
   "source": [
    "target"
   ]
  },
  {
   "cell_type": "code",
   "execution_count": 30,
   "id": "ranking-roommate",
   "metadata": {},
   "outputs": [
    {
     "data": {
      "text/plain": [
       "tensor([2, 0, 3])"
      ]
     },
     "execution_count": 30,
     "metadata": {},
     "output_type": "execute_result"
    }
   ],
   "source": [
    "target"
   ]
  },
  {
   "cell_type": "code",
   "execution_count": 31,
   "id": "private-investment",
   "metadata": {},
   "outputs": [
    {
     "name": "stdout",
     "output_type": "stream",
     "text": [
      "tensor(2.4598)\n"
     ]
    }
   ],
   "source": [
    "import torch\n",
    "import torch.nn as nn\n",
    "from torch.autograd import Variable\n",
    "\n",
    "output = Variable(torch.rand(1,10))\n",
    "target = Variable(torch.LongTensor([1]))\n",
    "\n",
    "criterion = nn.CrossEntropyLoss()\n",
    "loss = criterion(output, target)\n",
    "print(loss)"
   ]
  },
  {
   "cell_type": "code",
   "execution_count": 32,
   "id": "smoking-mathematics",
   "metadata": {},
   "outputs": [
    {
     "data": {
      "text/plain": [
       "tensor([[7.1111e-01, 3.7134e-01, 4.2188e-01, 9.3949e-01, 3.5060e-01, 2.4225e-01,\n",
       "         4.2464e-02, 7.3067e-01, 9.4832e-01, 6.4373e-05]])"
      ]
     },
     "execution_count": 32,
     "metadata": {},
     "output_type": "execute_result"
    }
   ],
   "source": [
    "output"
   ]
  },
  {
   "cell_type": "code",
   "execution_count": 33,
   "id": "blank-terrace",
   "metadata": {},
   "outputs": [
    {
     "data": {
      "text/plain": [
       "tensor([1])"
      ]
     },
     "execution_count": 33,
     "metadata": {},
     "output_type": "execute_result"
    }
   ],
   "source": [
    "target"
   ]
  },
  {
   "cell_type": "code",
   "execution_count": 35,
   "id": "digital-boston",
   "metadata": {},
   "outputs": [],
   "source": [
    "input = torch.randn(3, 5, requires_grad=True)\n",
    "target = torch.randint(5, (3,), dtype=torch.int64)\n",
    "loss = torch.nn.functional.cross_entropy(input, target)"
   ]
  },
  {
   "cell_type": "code",
   "execution_count": 36,
   "id": "collectible-drove",
   "metadata": {},
   "outputs": [
    {
     "data": {
      "text/plain": [
       "tensor([[-1.6440,  0.1403,  0.6018,  1.0484, -0.0409],\n",
       "        [ 0.0140,  0.0413,  0.0205, -1.1846, -0.0962],\n",
       "        [ 0.5546,  0.7451,  0.0157, -1.9727,  0.9452]], requires_grad=True)"
      ]
     },
     "execution_count": 36,
     "metadata": {},
     "output_type": "execute_result"
    }
   ],
   "source": [
    "input"
   ]
  },
  {
   "cell_type": "code",
   "execution_count": 37,
   "id": "another-jones",
   "metadata": {},
   "outputs": [
    {
     "data": {
      "text/plain": [
       "tensor([4, 3, 0])"
      ]
     },
     "execution_count": 37,
     "metadata": {},
     "output_type": "execute_result"
    }
   ],
   "source": [
    "target"
   ]
  },
  {
   "cell_type": "code",
   "execution_count": 43,
   "id": "plastic-category",
   "metadata": {},
   "outputs": [],
   "source": [
    "from torchvision import datasets, transforms\n",
    "from torch.utils.data import DataLoader, TensorDataset\n",
    "import pandas as pd\n",
    "\n",
    "df = pd.read_csv(\"/data/trduong/counterfactual_fairness_game_theoric/data/raw/law_data.csv\")\n",
    "\n",
    "# DataLoader(dataset, batch_size=1, shuffle=False, sampler=None,\n",
    "#            batch_sampler=None, num_workers=0, collate_fn=None,\n",
    "#            pin_memory=False, drop_last=False, timeout=0,\n",
    "#            worker_init_fn=None, *, prefetch_factor=2,\n",
    "#            persistent_workers=False)"
   ]
  },
  {
   "cell_type": "code",
   "execution_count": 54,
   "id": "finite-closure",
   "metadata": {},
   "outputs": [],
   "source": [
    "train_x, train_y = df[['LSAT', 'UGPA']].values, df['ZFYA'].values"
   ]
  },
  {
   "cell_type": "code",
   "execution_count": 55,
   "id": "rocky-employee",
   "metadata": {},
   "outputs": [
    {
     "data": {
      "text/plain": [
       "array([[39. ,  3.1],\n",
       "       [36. ,  3. ],\n",
       "       [30. ,  3.1],\n",
       "       ...,\n",
       "       [36. ,  4. ],\n",
       "       [31. ,  2.9],\n",
       "       [28. ,  3.1]])"
      ]
     },
     "execution_count": 55,
     "metadata": {},
     "output_type": "execute_result"
    }
   ],
   "source": [
    "train_x"
   ]
  },
  {
   "cell_type": "code",
   "execution_count": 56,
   "id": "imperial-ordinary",
   "metadata": {},
   "outputs": [],
   "source": [
    "train_x, train_y = torch.from_numpy(train_x), torch.from_numpy(train_y)\n",
    "data_set = TensorDataset(train_x, train_y)\n",
    "train_batches = DataLoader(data_set, batch_size=1024, shuffle=True)\n"
   ]
  },
  {
   "cell_type": "code",
   "execution_count": 57,
   "id": "tracked-adolescent",
   "metadata": {},
   "outputs": [
    {
     "name": "stdout",
     "output_type": "stream",
     "text": [
      "tensor([[39.0000,  3.1000],\n",
      "        [36.0000,  3.0000],\n",
      "        [30.0000,  3.1000],\n",
      "        ...,\n",
      "        [39.0000,  3.4000],\n",
      "        [36.0000,  3.5000],\n",
      "        [39.0000,  3.1000]], dtype=torch.float64) tensor([-0.9800,  0.0900, -0.3500,  ...,  0.1900, -0.2400, -0.0300],\n",
      "       dtype=torch.float64)\n",
      "tensor([[39.0000,  3.5000],\n",
      "        [35.0000,  3.3000],\n",
      "        [36.0000,  3.3000],\n",
      "        ...,\n",
      "        [37.0000,  2.1000],\n",
      "        [33.0000,  2.7000],\n",
      "        [39.0000,  2.2000]], dtype=torch.float64) tensor([ 1.1100, -0.5200,  0.7200,  ..., -0.0100,  0.5700,  0.4300],\n",
      "       dtype=torch.float64)\n",
      "tensor([[34.0000,  2.7000],\n",
      "        [24.7000,  2.6000],\n",
      "        [34.0000,  2.9000],\n",
      "        ...,\n",
      "        [41.0000,  3.3000],\n",
      "        [38.0000,  3.6000],\n",
      "        [34.0000,  3.1000]], dtype=torch.float64) tensor([ 1.1900, -1.5400,  1.6100,  ...,  1.5200,  0.1500, -0.5700],\n",
      "       dtype=torch.float64)\n",
      "tensor([[35.0000,  2.9000],\n",
      "        [39.0000,  3.5000],\n",
      "        [31.0000,  3.3000],\n",
      "        ...,\n",
      "        [34.0000,  3.1000],\n",
      "        [35.0000,  3.4000],\n",
      "        [39.0000,  3.2000]], dtype=torch.float64) tensor([-0.5200,  0.1200, -0.0400,  ..., -0.3200,  0.9000, -0.7600],\n",
      "       dtype=torch.float64)\n",
      "tensor([[41.0000,  3.6000],\n",
      "        [39.0000,  3.2000],\n",
      "        [37.0000,  3.2000],\n",
      "        ...,\n",
      "        [40.0000,  2.7000],\n",
      "        [34.0000,  2.9000],\n",
      "        [31.0000,  2.6000]], dtype=torch.float64) tensor([ 1.5200, -0.1700, -0.1700,  ...,  1.0300, -0.3800,  1.7300],\n",
      "       dtype=torch.float64)\n",
      "tensor([[35.0000,  3.3000],\n",
      "        [34.0000,  2.9000],\n",
      "        [30.5000,  3.1000],\n",
      "        ...,\n",
      "        [43.0000,  3.1000],\n",
      "        [32.0000,  3.5000],\n",
      "        [36.0000,  3.0000]], dtype=torch.float64) tensor([-0.0300,  0.3300, -0.8000,  ...,  1.1500,  0.0700,  2.7600],\n",
      "       dtype=torch.float64)\n",
      "tensor([[28.0000,  2.5000],\n",
      "        [23.5000,  2.1000],\n",
      "        [42.0000,  2.8000],\n",
      "        ...,\n",
      "        [41.0000,  3.2000],\n",
      "        [31.0000,  3.5000],\n",
      "        [39.0000,  3.1000]], dtype=torch.float64) tensor([-1.8500, -2.1300,  1.6700,  ...,  1.2400, -2.2100, -0.0800],\n",
      "       dtype=torch.float64)\n",
      "tensor([[39.0000,  2.6000],\n",
      "        [39.0000,  3.1000],\n",
      "        [31.0000,  3.7000],\n",
      "        ...,\n",
      "        [37.0000,  3.6000],\n",
      "        [36.0000,  3.8000],\n",
      "        [36.0000,  3.5000]], dtype=torch.float64) tensor([ 0.3700,  0.6600,  1.0900,  ..., -0.5500,  1.4100,  0.3900],\n",
      "       dtype=torch.float64)\n",
      "tensor([[31.5000,  3.6000],\n",
      "        [25.0000,  2.9000],\n",
      "        [41.0000,  3.6000],\n",
      "        ...,\n",
      "        [40.0000,  2.9000],\n",
      "        [38.0000,  3.3000],\n",
      "        [40.0000,  3.3000]], dtype=torch.float64) tensor([-1.0000, -0.9400,  1.4500,  ..., -0.7600,  1.5000,  1.4600],\n",
      "       dtype=torch.float64)\n",
      "tensor([[38.0000,  3.1000],\n",
      "        [36.0000,  3.2000],\n",
      "        [35.0000,  3.1000],\n",
      "        ...,\n",
      "        [35.0000,  2.5000],\n",
      "        [34.0000,  2.8000],\n",
      "        [29.3000,  2.7000]], dtype=torch.float64) tensor([-1.0300,  0.6300, -0.5100,  ..., -0.2000, -0.1300, -0.2400],\n",
      "       dtype=torch.float64)\n",
      "tensor([[41.0000,  2.8000],\n",
      "        [35.5000,  2.5000],\n",
      "        [36.0000,  2.8000],\n",
      "        ...,\n",
      "        [40.0000,  3.8000],\n",
      "        [44.0000,  3.6000],\n",
      "        [34.0000,  3.3000]], dtype=torch.float64) tensor([-0.3900, -0.0300, -0.2400,  ..., -0.0500, -0.1200, -1.0300],\n",
      "       dtype=torch.float64)\n",
      "tensor([[39.0000,  3.6000],\n",
      "        [40.0000,  3.9000],\n",
      "        [37.0000,  2.9000],\n",
      "        ...,\n",
      "        [39.0000,  3.3000],\n",
      "        [45.0000,  2.5000],\n",
      "        [38.5000,  2.9000]], dtype=torch.float64) tensor([-1.0300,  1.6600, -1.4500,  ...,  0.5600,  0.8700, -0.7000],\n",
      "       dtype=torch.float64)\n",
      "tensor([[40.0000,  2.9000],\n",
      "        [37.0000,  3.7000],\n",
      "        [33.0000,  3.9000],\n",
      "        ...,\n",
      "        [45.0000,  3.6000],\n",
      "        [45.0000,  3.5000],\n",
      "        [32.0000,  3.3000]], dtype=torch.float64) tensor([ 1.1800,  0.2500, -0.4200,  ..., -0.1500, -0.2100, -3.0400],\n",
      "       dtype=torch.float64)\n",
      "tensor([[31.0000,  3.7000],\n",
      "        [47.0000,  3.6000],\n",
      "        [43.0000,  3.5000],\n",
      "        ...,\n",
      "        [33.0000,  2.6000],\n",
      "        [40.0000,  3.8000],\n",
      "        [30.0000,  3.4000]], dtype=torch.float64) tensor([-0.5200, -0.0700, -0.3700,  ...,  0.2000,  0.1000, -0.5200],\n",
      "       dtype=torch.float64)\n",
      "tensor([[36.0000,  3.8000],\n",
      "        [30.0000,  3.6000],\n",
      "        [39.0000,  2.9000],\n",
      "        ...,\n",
      "        [35.0000,  2.9000],\n",
      "        [33.0000,  3.1000],\n",
      "        [41.0000,  2.9000]], dtype=torch.float64) tensor([ 1.5400, -0.1900,  1.0000,  ...,  0.2300,  1.1900,  0.1400],\n",
      "       dtype=torch.float64)\n",
      "tensor([[40.0000,  3.5000],\n",
      "        [40.0000,  3.0000],\n",
      "        [28.0000,  2.9000],\n",
      "        ...,\n",
      "        [38.0000,  3.9000],\n",
      "        [43.0000,  3.2000],\n",
      "        [46.0000,  3.6000]], dtype=torch.float64) tensor([ 2.1700,  0.3000,  1.1400,  ..., -0.3100,  1.1400,  0.7800],\n",
      "       dtype=torch.float64)\n",
      "tensor([[47.0000,  3.5000],\n",
      "        [41.0000,  3.8000],\n",
      "        [45.0000,  3.4000],\n",
      "        ...,\n",
      "        [42.0000,  2.6000],\n",
      "        [30.0000,  3.2000],\n",
      "        [37.0000,  3.4000]], dtype=torch.float64) tensor([ 0.0600,  0.5100,  0.5100,  ...,  0.4400, -1.3800, -0.1100],\n",
      "       dtype=torch.float64)\n",
      "tensor([[28.0000,  3.3000],\n",
      "        [40.0000,  3.6000],\n",
      "        [36.0000,  3.4000],\n",
      "        ...,\n",
      "        [31.5000,  3.0000],\n",
      "        [33.0000,  3.1000],\n",
      "        [34.0000,  3.1000]], dtype=torch.float64) tensor([ 0.0100,  1.1000, -0.0300,  ...,  0.1700,  1.2100,  0.8200],\n",
      "       dtype=torch.float64)\n",
      "tensor([[32.5000,  3.4000],\n",
      "        [35.0000,  3.1000],\n",
      "        [35.0000,  3.1000],\n",
      "        ...,\n",
      "        [36.0000,  3.5000],\n",
      "        [41.0000,  3.0000],\n",
      "        [39.0000,  3.8000]], dtype=torch.float64) tensor([ 0.3400, -1.0200,  0.0700,  ..., -1.8500,  0.8700,  0.3100],\n",
      "       dtype=torch.float64)\n",
      "tensor([[42.0000,  3.1000],\n",
      "        [35.0000,  3.1000],\n",
      "        [29.0000,  2.9000],\n",
      "        ...,\n",
      "        [38.0000,  3.3000],\n",
      "        [37.0000,  3.9000],\n",
      "        [32.0000,  3.7000]], dtype=torch.float64) tensor([ 0.3600,  0.1500, -1.4900,  ...,  0.2200,  1.6900,  0.4300],\n",
      "       dtype=torch.float64)\n",
      "tensor([[38.0000,  3.6000],\n",
      "        [42.0000,  2.5000],\n",
      "        [32.0000,  3.5000],\n",
      "        ...,\n",
      "        [31.5000,  3.6000],\n",
      "        [39.0000,  3.8000],\n",
      "        [43.0000,  3.4000]], dtype=torch.float64) tensor([ 0.9000, -0.6200,  0.3700,  ..., -2.1400, -0.3700,  1.7800],\n",
      "       dtype=torch.float64)\n",
      "tensor([[39.0000,  3.1000],\n",
      "        [39.0000,  3.8000],\n",
      "        [46.0000,  3.7000],\n",
      "        [45.0000,  3.2000],\n",
      "        [42.0000,  3.5000],\n",
      "        [45.0000,  3.7000],\n",
      "        [40.0000,  3.0000],\n",
      "        [29.0000,  3.2000],\n",
      "        [41.0000,  3.6000],\n",
      "        [42.0000,  3.4000],\n",
      "        [43.0000,  3.4000],\n",
      "        [37.0000,  3.8000],\n",
      "        [41.0000,  3.8000],\n",
      "        [34.0000,  3.3000],\n",
      "        [44.0000,  3.6000],\n",
      "        [40.0000,  2.8000],\n",
      "        [44.0000,  3.1000],\n",
      "        [44.0000,  3.2000],\n",
      "        [46.0000,  3.4000],\n",
      "        [43.0000,  3.4000],\n",
      "        [46.0000,  3.2000],\n",
      "        [38.0000,  4.0000],\n",
      "        [46.0000,  3.0000],\n",
      "        [42.0000,  3.1000],\n",
      "        [41.0000,  3.6000],\n",
      "        [45.0000,  3.1000],\n",
      "        [42.0000,  3.6000],\n",
      "        [42.0000,  3.7000],\n",
      "        [38.0000,  2.1000],\n",
      "        [41.0000,  3.6000],\n",
      "        [46.0000,  3.4000],\n",
      "        [44.0000,  3.7000],\n",
      "        [39.0000,  3.8000],\n",
      "        [40.0000,  4.0000],\n",
      "        [42.0000,  3.8000],\n",
      "        [41.0000,  3.8000],\n",
      "        [40.0000,  3.7000],\n",
      "        [46.0000,  3.3000],\n",
      "        [44.0000,  3.4000],\n",
      "        [43.0000,  3.5000],\n",
      "        [46.0000,  3.1000],\n",
      "        [48.0000,  2.8000],\n",
      "        [39.0000,  3.3000],\n",
      "        [42.0000,  3.4000],\n",
      "        [43.0000,  3.4000],\n",
      "        [28.0000,  3.1000],\n",
      "        [33.0000,  3.2000],\n",
      "        [40.0000,  3.2000],\n",
      "        [33.0000,  3.8000],\n",
      "        [46.0000,  3.3000],\n",
      "        [41.0000,  3.6000],\n",
      "        [43.0000,  3.5000],\n",
      "        [38.0000,  3.3000],\n",
      "        [46.0000,  3.5000],\n",
      "        [45.0000,  3.5000],\n",
      "        [46.0000,  3.4000],\n",
      "        [38.0000,  3.0000],\n",
      "        [41.0000,  3.4000],\n",
      "        [42.0000,  3.3000],\n",
      "        [46.0000,  3.6000],\n",
      "        [42.0000,  3.9000],\n",
      "        [29.0000,  3.6000],\n",
      "        [34.0000,  3.1000],\n",
      "        [37.0000,  3.8000],\n",
      "        [31.0000,  2.7000],\n",
      "        [46.0000,  3.2000],\n",
      "        [36.5000,  3.9000],\n",
      "        [41.0000,  2.8000],\n",
      "        [43.0000,  3.8000],\n",
      "        [45.0000,  3.2000],\n",
      "        [44.0000,  3.5000],\n",
      "        [42.0000,  3.5000],\n",
      "        [38.0000,  2.7000],\n",
      "        [41.0000,  3.4000],\n",
      "        [48.0000,  3.2000],\n",
      "        [46.0000,  3.2000],\n",
      "        [42.0000,  3.6000],\n",
      "        [29.0000,  3.3000],\n",
      "        [42.0000,  3.4000],\n",
      "        [46.0000,  3.4000],\n",
      "        [37.0000,  2.6000],\n",
      "        [43.0000,  3.7000],\n",
      "        [24.0000,  3.0000],\n",
      "        [40.0000,  3.8000],\n",
      "        [41.0000,  3.3000],\n",
      "        [40.5000,  3.1000],\n",
      "        [43.0000,  3.6000],\n",
      "        [42.0000,  3.6000],\n",
      "        [42.0000,  3.8000],\n",
      "        [41.0000,  3.7000],\n",
      "        [42.0000,  2.6000],\n",
      "        [37.0000,  3.6000],\n",
      "        [42.0000,  3.2000],\n",
      "        [39.0000,  3.6000],\n",
      "        [43.0000,  3.5000],\n",
      "        [35.0000,  3.6000],\n",
      "        [38.0000,  3.6000],\n",
      "        [39.0000,  3.2000],\n",
      "        [38.0000,  3.3000],\n",
      "        [39.0000,  3.1000],\n",
      "        [39.0000,  3.1000],\n",
      "        [23.0000,  3.4000],\n",
      "        [33.0000,  3.4000],\n",
      "        [28.0000,  2.9000],\n",
      "        [32.0000,  3.6000],\n",
      "        [28.0000,  3.2000],\n",
      "        [27.0000,  2.8000],\n",
      "        [30.5000,  2.5000],\n",
      "        [31.0000,  2.8000],\n",
      "        [39.0000,  3.3000],\n",
      "        [33.0000,  3.8000],\n",
      "        [37.0000,  4.0000],\n",
      "        [30.0000,  3.6000],\n",
      "        [20.5000,  2.8000],\n",
      "        [39.0000,  3.3000],\n",
      "        [34.0000,  3.3000],\n",
      "        [22.5000,  2.5000],\n",
      "        [37.0000,  3.3000],\n",
      "        [24.5000,  3.0000],\n",
      "        [33.5000,  3.0000],\n",
      "        [23.0000,  3.1000],\n",
      "        [38.0000,  3.1000],\n",
      "        [42.0000,  3.5000],\n",
      "        [32.0000,  3.6000],\n",
      "        [37.0000,  3.5000],\n",
      "        [34.0000,  3.4000],\n",
      "        [36.0000,  3.6000],\n",
      "        [42.0000,  2.9000],\n",
      "        [38.0000,  3.1000],\n",
      "        [34.0000,  3.5000],\n",
      "        [37.0000,  3.3000],\n",
      "        [36.0000,  3.2000],\n",
      "        [28.0000,  3.2000],\n",
      "        [30.0000,  2.8000],\n",
      "        [36.0000,  2.6000],\n",
      "        [40.0000,  3.2000],\n",
      "        [39.0000,  3.4000],\n",
      "        [44.0000,  2.8000],\n",
      "        [41.0000,  3.0000],\n",
      "        [35.0000,  3.3000],\n",
      "        [36.0000,  3.1000],\n",
      "        [37.0000,  3.6000],\n",
      "        [40.0000,  3.1000],\n",
      "        [34.0000,  3.5000],\n",
      "        [35.0000,  3.3000],\n",
      "        [36.0000,  3.3000],\n",
      "        [37.0000,  3.0000],\n",
      "        [40.0000,  3.1000],\n",
      "        [30.0000,  3.2000],\n",
      "        [41.0000,  3.3000],\n",
      "        [32.0000,  3.1000],\n",
      "        [32.0000,  3.8000],\n",
      "        [26.0000,  2.7000],\n",
      "        [38.0000,  2.4000],\n",
      "        [35.5000,  3.2000],\n",
      "        [36.0000,  3.3000],\n",
      "        [44.0000,  3.0000],\n",
      "        [35.0000,  3.5000],\n",
      "        [38.0000,  2.9000],\n",
      "        [27.0000,  2.8000],\n",
      "        [24.0000,  3.0000],\n",
      "        [33.0000,  3.5000],\n",
      "        [33.0000,  3.4000],\n",
      "        [33.0000,  3.5000],\n",
      "        [39.0000,  2.8000],\n",
      "        [46.0000,  3.2000],\n",
      "        [33.5000,  3.8000],\n",
      "        [37.0000,  3.2000],\n",
      "        [39.0000,  3.7000],\n",
      "        [36.0000,  3.1000],\n",
      "        [40.0000,  3.2000],\n",
      "        [33.0000,  2.7000],\n",
      "        [39.0000,  2.9000],\n",
      "        [42.0000,  2.7000],\n",
      "        [39.0000,  3.8000],\n",
      "        [42.0000,  3.5000],\n",
      "        [41.0000,  2.8000],\n",
      "        [39.0000,  3.3000],\n",
      "        [34.0000,  2.3000],\n",
      "        [36.0000,  3.5000],\n",
      "        [37.0000,  3.3000],\n",
      "        [31.0000,  3.3000],\n",
      "        [42.0000,  3.6000],\n",
      "        [44.0000,  3.0000],\n",
      "        [39.0000,  3.5000],\n",
      "        [35.0000,  3.1000],\n",
      "        [38.0000,  3.3000],\n",
      "        [42.0000,  3.3000],\n",
      "        [37.0000,  3.6000],\n",
      "        [39.0000,  3.0000],\n",
      "        [38.0000,  3.2000],\n",
      "        [40.0000,  3.6000],\n",
      "        [37.0000,  3.2000],\n",
      "        [39.0000,  3.1000],\n",
      "        [43.0000,  2.2000],\n",
      "        [37.0000,  3.4000],\n",
      "        [40.0000,  3.0000],\n",
      "        [27.7000,  2.4000],\n",
      "        [38.0000,  3.1000],\n",
      "        [39.0000,  3.1000],\n",
      "        [37.5000,  4.0000],\n",
      "        [37.0000,  3.4000],\n",
      "        [32.0000,  3.1000],\n",
      "        [41.0000,  2.8000],\n",
      "        [33.0000,  3.6000],\n",
      "        [37.0000,  3.2000],\n",
      "        [36.0000,  3.2000],\n",
      "        [36.0000,  3.4000],\n",
      "        [41.0000,  3.2000],\n",
      "        [44.0000,  2.7000],\n",
      "        [40.0000,  3.1000],\n",
      "        [36.0000,  3.9000],\n",
      "        [37.0000,  3.4000],\n",
      "        [30.0000,  2.9000],\n",
      "        [38.0000,  3.2000],\n",
      "        [37.0000,  3.1000],\n",
      "        [38.0000,  3.2000],\n",
      "        [36.0000,  3.3000],\n",
      "        [38.0000,  3.3000],\n",
      "        [34.0000,  3.0000],\n",
      "        [39.0000,  3.0000],\n",
      "        [38.0000,  2.7000],\n",
      "        [39.0000,  3.3000],\n",
      "        [35.0000,  3.5000],\n",
      "        [45.0000,  2.5000],\n",
      "        [38.0000,  3.9000],\n",
      "        [39.0000,  3.7000],\n",
      "        [36.5000,  3.3000],\n",
      "        [35.5000,  4.0000],\n",
      "        [36.0000,  3.1000],\n",
      "        [34.0000,  2.7000],\n",
      "        [39.0000,  2.9000],\n",
      "        [32.0000,  3.8000],\n",
      "        [46.0000,  3.4000],\n",
      "        [40.0000,  3.1000],\n",
      "        [38.0000,  3.1000],\n",
      "        [42.0000,  3.3000],\n",
      "        [29.5000,  3.1000],\n",
      "        [40.0000,  3.9000],\n",
      "        [29.5000,  2.9000],\n",
      "        [30.5000,  2.9000],\n",
      "        [37.0000,  3.0000],\n",
      "        [40.0000,  3.3000],\n",
      "        [34.0000,  2.9000],\n",
      "        [32.0000,  2.7000],\n",
      "        [38.0000,  4.0000],\n",
      "        [32.0000,  2.9000],\n",
      "        [30.0000,  3.1000],\n",
      "        [27.0000,  3.4000],\n",
      "        [33.0000,  2.9000],\n",
      "        [34.0000,  2.9000],\n",
      "        [27.0000,  3.1000],\n",
      "        [31.0000,  2.7000],\n",
      "        [30.0000,  2.8000],\n",
      "        [32.0000,  3.2000],\n",
      "        [32.0000,  2.9000],\n",
      "        [33.0000,  2.9000],\n",
      "        [35.0000,  2.9000],\n",
      "        [29.5000,  2.7000],\n",
      "        [36.0000,  2.3000],\n",
      "        [27.0000,  3.2000],\n",
      "        [33.0000,  3.2000],\n",
      "        [26.0000,  3.2000],\n",
      "        [32.0000,  2.9000],\n",
      "        [33.0000,  2.8000],\n",
      "        [35.0000,  2.7000],\n",
      "        [39.0000,  2.3000],\n",
      "        [30.0000,  2.9000],\n",
      "        [33.0000,  2.6000],\n",
      "        [30.0000,  3.2000],\n",
      "        [27.0000,  3.4000],\n",
      "        [37.0000,  2.8000],\n",
      "        [26.0000,  3.5000],\n",
      "        [43.0000,  2.5000],\n",
      "        [32.0000,  2.7000],\n",
      "        [29.0000,  3.1000],\n",
      "        [38.0000,  3.9000],\n",
      "        [33.0000,  3.8000],\n",
      "        [38.0000,  2.5000],\n",
      "        [31.0000,  3.5000],\n",
      "        [28.0000,  3.3000],\n",
      "        [26.0000,  3.0000],\n",
      "        [33.0000,  4.0000],\n",
      "        [38.0000,  3.7000],\n",
      "        [36.0000,  4.0000],\n",
      "        [31.0000,  2.9000],\n",
      "        [28.0000,  3.1000]], dtype=torch.float64) tensor([-0.8000,  0.4000,  1.3700,  1.0400,  0.6900, -0.8400, -1.0900, -1.9800,\n",
      "        -1.1300,  1.2800, -0.9400,  0.7100,  1.3700, -1.5000,  0.1300, -1.4000,\n",
      "         1.3700,  0.3400, -0.1600,  0.8100, -0.1200,  1.7000,  1.1400,  0.0900,\n",
      "         1.2200,  1.2400, -0.4300, -1.6000, -1.8100,  1.5500,  0.1900,  1.1600,\n",
      "        -0.1400, -0.4300,  0.8300,  0.2300, -1.0500, -0.5100,  1.2800,  0.7500,\n",
      "         1.0400,  0.6200, -0.4300,  0.4200,  0.8300, -1.3600, -1.2300, -0.3000,\n",
      "         0.2500,  0.6000, -1.2300,  0.2100,  1.4500, -0.1600, -1.5000,  0.5400,\n",
      "        -0.9200, -0.2000, -0.1000,  1.0800,  0.5400, -1.0300, -1.9300,  0.1900,\n",
      "        -2.5500, -0.7200,  0.1900, -0.4100, -0.7000,  0.4200,  0.2700,  0.0500,\n",
      "        -1.2100, -0.5900, -0.3700,  0.8700, -1.2100, -1.6000,  1.4500,  0.4000,\n",
      "        -0.9400,  0.7500,  0.4600,  0.3800, -0.1600, -0.4300,  0.3800,  1.3700,\n",
      "         1.1400,  0.4200, -1.1300,  0.5000, -0.3300, -0.5700,  0.2300,  0.4300,\n",
      "         1.2200,  1.1900,  0.6600,  0.3000,  0.3300, -1.5800,  0.3700, -1.0900,\n",
      "         0.3300,  0.0700, -0.1100, -1.4800, -0.3000, -0.1000, -0.8900,  2.4400,\n",
      "         0.5300, -1.3800, -0.2000,  1.2200, -1.3500,  1.4900, -0.2300, -0.2000,\n",
      "        -0.9900,  0.7900,  0.8900,  0.4000,  0.3000,  0.0300,  0.7600,  0.4600,\n",
      "        -0.2600,  0.7900,  0.6900,  1.1900, -0.7600, -0.7900, -0.2600,  0.0700,\n",
      "         0.7900,  0.2300,  0.0000, -0.4300,  1.1600,  2.0100,  0.2300, -0.3000,\n",
      "        -0.2000, -0.9200,  0.6300,  1.6200, -0.3600, -0.2600, -1.0900,  1.2600,\n",
      "        -2.0100, -0.3000, -1.5200,  0.8900,  0.9600,  0.8900,  0.4000, -0.6600,\n",
      "        -1.6800, -0.7600, -0.4300, -0.4300, -0.6300,  0.7000, -0.1200,  0.1400,\n",
      "         0.0900, -0.4300,  0.9900, -1.1000, -0.4300, -1.6100,  0.7900,  0.0300,\n",
      "         0.1500,  0.1700, -1.6600, -0.6700, -0.9900,  0.7700,  1.4200,  0.1200,\n",
      "         1.7800, -0.4300,  1.9100,  1.6000, -0.0700,  0.4900,  0.9400,  0.2700,\n",
      "        -0.5500, -0.3000,  0.8300, -0.1100,  0.0400, -1.7000, -0.2800,  0.2500,\n",
      "         3.4800,  0.1200, -0.8500,  0.3600, -1.1700,  0.6500,  0.6400, -0.6400,\n",
      "         1.3000,  0.8200, -0.8300,  1.7800, -0.1200, -0.8600,  1.6000,  0.5800,\n",
      "        -1.1000, -0.8300, -0.8700, -0.3400,  0.7200, -0.5600, -0.4400,  0.1200,\n",
      "        -0.1300,  0.6500,  1.9500, -0.5200, -0.0800,  0.6400,  0.3300, -0.8100,\n",
      "        -0.8600,  0.4100, -0.9000,  0.8700,  0.6400, -0.6400,  2.2100,  0.0700,\n",
      "        -1.1800,  0.7600,  1.9600, -0.4800, -0.6600,  1.7100,  0.0700, -0.6600,\n",
      "        -0.6600, -1.0200,  0.0500,  0.2600, -0.1600, -0.5800,  0.4300, -0.8700,\n",
      "        -0.4800, -0.9600,  0.0500,  1.5500,  0.0200,  0.5300, -0.2700, -0.8200,\n",
      "         0.0200, -0.9600, -0.5200, -0.7200,  1.7500,  0.0200, -0.3400, -0.5100,\n",
      "        -0.6800, -0.0200,  1.1800, -0.5400, -0.4300,  2.5200,  0.6200,  0.7500,\n",
      "         0.2500,  0.1200,  0.8300, -0.2300,  2.1200,  0.3000,  0.2600],\n",
      "       dtype=torch.float64)\n"
     ]
    }
   ],
   "source": [
    "for x_batch, y_batch in train_batches:\n",
    "    print(x_batch, y_batch)"
   ]
  },
  {
   "cell_type": "code",
   "execution_count": null,
   "id": "positive-premiere",
   "metadata": {},
   "outputs": [],
   "source": [
    "Prediction  [ 0.12912953  0.04191843  0.03074031 ...  0.11929967  0.02832243\n",
    " -0.14785084]\n",
    "Label  [-1.21691224 -0.05936492 -0.53536568 ...  2.13672954  0.16781727\n",
    "  0.12454447]"
   ]
  }
 ],
 "metadata": {
  "kernelspec": {
   "display_name": "Python [conda env:research] *",
   "language": "python",
   "name": "conda-env-research-py"
  },
  "language_info": {
   "codemirror_mode": {
    "name": "ipython",
    "version": 3
   },
   "file_extension": ".py",
   "mimetype": "text/x-python",
   "name": "python",
   "nbconvert_exporter": "python",
   "pygments_lexer": "ipython3",
   "version": "3.8.5"
  },
  "toc": {
   "base_numbering": 1,
   "nav_menu": {},
   "number_sections": true,
   "sideBar": true,
   "skip_h1_title": false,
   "title_cell": "Table of Contents",
   "title_sidebar": "Contents",
   "toc_cell": false,
   "toc_position": {},
   "toc_section_display": true,
   "toc_window_display": false
  }
 },
 "nbformat": 4,
 "nbformat_minor": 5
}
