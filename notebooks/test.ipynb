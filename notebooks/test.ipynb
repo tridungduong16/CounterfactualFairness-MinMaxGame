{
 "cells": [
  {
   "cell_type": "code",
   "execution_count": 1,
   "id": "deadly-journal",
   "metadata": {},
   "outputs": [],
   "source": [
    "import tensorflow as tf\n",
    "import torch "
   ]
  },
  {
   "cell_type": "code",
   "execution_count": 2,
   "id": "internal-martin",
   "metadata": {},
   "outputs": [],
   "source": [
    "def _independent_straight_through_sampling(rationale_logits):\n",
    "    \"\"\"\n",
    "    Straight through sampling.\n",
    "    Outputs:\n",
    "        z -- shape (batch_size, sequence_length, 2)        \n",
    "    \"\"\"\n",
    "    z = tf.nn.softmax(rationale_logits)\n",
    "    z_hard = tf.cast(tf.equal(z, tf.reduce_max(z, -1, keep_dims=True)),\n",
    "                     z.dtype)\n",
    "    z = tf.stop_gradient(z_hard - z) + z\n",
    "\n",
    "    return z"
   ]
  },
  {
   "cell_type": "code",
   "execution_count": 4,
   "id": "fifteen-evolution",
   "metadata": {},
   "outputs": [
    {
     "name": "stdout",
     "output_type": "stream",
     "text": [
      "tensor([[0.6900, 0.3100],\n",
      "        [0.6457, 0.3543],\n",
      "        [0.5987, 0.4013]])\n",
      "\n",
      "\n",
      "tensor([[0.6900],\n",
      "        [0.6457],\n",
      "        [0.5987]])\n",
      "tensor([[1., 0.],\n",
      "        [1., 0.],\n",
      "        [1., 0.]])\n"
     ]
    },
    {
     "name": "stderr",
     "output_type": "stream",
     "text": [
      "<ipython-input-4-2a0d3a285849>:7: UserWarning: Implicit dimension choice for softmax has been deprecated. Change the call to include dim=X as an argument.\n",
      "  z = torch.nn.functional.softmax(rationale_logits)\n"
     ]
    }
   ],
   "source": [
    "rationale_logits = [\n",
    "    [0.9, 0.1],\n",
    "    [0.8, 0.2],\n",
    "    [0.7, 0.3]\n",
    "]\n",
    "rationale_logits = torch.tensor(rationale_logits)\n",
    "z = torch.nn.functional.softmax(rationale_logits)\n",
    "print(z)\n",
    "print(\"\\n\")\n",
    "reduce_max = torch.max(z, dim = 1, keepdim=False).values.reshape(-1,1)\n",
    "print(reduce_max)\n",
    "equal = z.eq(reduce_max)\n",
    "z_hard = equal.type(torch.FloatTensor)\n",
    "z_soft = (z_hard - z).detach_() + z\n",
    "print(z_soft)"
   ]
  },
  {
   "cell_type": "code",
   "execution_count": 26,
   "id": "handed-alabama",
   "metadata": {},
   "outputs": [
    {
     "data": {
      "text/plain": [
       "torch.Size([3, 2])"
      ]
     },
     "execution_count": 26,
     "metadata": {},
     "output_type": "execute_result"
    }
   ],
   "source": [
    "rationale_logits.shape"
   ]
  },
  {
   "cell_type": "code",
   "execution_count": 29,
   "id": "warming-identifier",
   "metadata": {},
   "outputs": [],
   "source": [
    "weight = torch.tensor([1,0])"
   ]
  },
  {
   "cell_type": "code",
   "execution_count": 30,
   "id": "numerical-finding",
   "metadata": {},
   "outputs": [
    {
     "data": {
      "text/plain": [
       "tensor([[0.9000, 0.0000],\n",
       "        [0.8000, 0.0000],\n",
       "        [0.7000, 0.0000]])"
      ]
     },
     "execution_count": 30,
     "metadata": {},
     "output_type": "execute_result"
    }
   ],
   "source": [
    "rationale_logits*weight"
   ]
  },
  {
   "cell_type": "code",
   "execution_count": 6,
   "id": "toxic-organic",
   "metadata": {},
   "outputs": [
    {
     "data": {
      "text/plain": [
       "(array([2, 5, 7]), tensor([2, 5, 7]))"
      ]
     },
     "execution_count": 6,
     "metadata": {},
     "output_type": "execute_result"
    }
   ],
   "source": [
    "import numpy as np\n",
    "X = np.array([1,2,3,4,5,6,7,8,9])\n",
    "Y = torch.tensor(X)\n",
    "index_ = [1,4,6]\n",
    "X[index_], Y[index_]"
   ]
  },
  {
   "cell_type": "code",
   "execution_count": 8,
   "id": "illegal-toddler",
   "metadata": {},
   "outputs": [],
   "source": [
    "from torch.autograd import Variable\n"
   ]
  },
  {
   "cell_type": "code",
   "execution_count": 11,
   "id": "hollywood-pension",
   "metadata": {},
   "outputs": [
    {
     "ename": "RuntimeError",
     "evalue": "Only Tensors of floating point and complex dtype can require gradients",
     "output_type": "error",
     "traceback": [
      "\u001b[0;31m---------------------------------------------------------------------------\u001b[0m",
      "\u001b[0;31mRuntimeError\u001b[0m                              Traceback (most recent call last)",
      "\u001b[0;32m<ipython-input-11-1f0929acd038>\u001b[0m in \u001b[0;36m<module>\u001b[0;34m\u001b[0m\n\u001b[0;32m----> 1\u001b[0;31m \u001b[0mVariable\u001b[0m\u001b[0;34m(\u001b[0m\u001b[0mtorch\u001b[0m\u001b[0;34m.\u001b[0m\u001b[0mtensor\u001b[0m\u001b[0;34m(\u001b[0m\u001b[0;34m[\u001b[0m\u001b[0;36m1\u001b[0m\u001b[0;34m]\u001b[0m\u001b[0;34m*\u001b[0m\u001b[0;36m10\u001b[0m\u001b[0;34m)\u001b[0m\u001b[0;34m,\u001b[0m \u001b[0mrequires_grad\u001b[0m\u001b[0;34m=\u001b[0m\u001b[0;32mTrue\u001b[0m\u001b[0;34m)\u001b[0m\u001b[0;34m\u001b[0m\u001b[0;34m\u001b[0m\u001b[0m\n\u001b[0m",
      "\u001b[0;31mRuntimeError\u001b[0m: Only Tensors of floating point and complex dtype can require gradients"
     ]
    }
   ],
   "source": [
    "Variable(torch.tensor([1]*10), requires_grad=True)"
   ]
  },
  {
   "cell_type": "code",
   "execution_count": 14,
   "id": "under-carolina",
   "metadata": {},
   "outputs": [],
   "source": [
    "W = torch.nn.Parameter(torch.randn(5))\n",
    "W.requires_grad = True"
   ]
  },
  {
   "cell_type": "code",
   "execution_count": 15,
   "id": "worse-worker",
   "metadata": {},
   "outputs": [
    {
     "data": {
      "text/plain": [
       "Parameter containing:\n",
       "tensor([ 0.0492, -0.2416, -0.4058,  1.7760,  0.9588], requires_grad=True)"
      ]
     },
     "execution_count": 15,
     "metadata": {},
     "output_type": "execute_result"
    }
   ],
   "source": [
    "W"
   ]
  },
  {
   "cell_type": "code",
   "execution_count": 16,
   "id": "exclusive-supply",
   "metadata": {},
   "outputs": [
    {
     "data": {
      "text/plain": [
       "0.8856730000000002"
      ]
     },
     "execution_count": 16,
     "metadata": {},
     "output_type": "execute_result"
    }
   ],
   "source": [
    "1.3219*0.67"
   ]
  },
  {
   "cell_type": "code",
   "execution_count": 17,
   "id": "satellite-average",
   "metadata": {},
   "outputs": [
    {
     "data": {
      "text/plain": [
       "tensor(1)"
      ]
     },
     "execution_count": 17,
     "metadata": {},
     "output_type": "execute_result"
    }
   ],
   "source": [
    "torch.max(torch.tensor(1), torch.tensor(0))"
   ]
  },
  {
   "cell_type": "code",
   "execution_count": 18,
   "id": "supported-angel",
   "metadata": {},
   "outputs": [],
   "source": [
    "loss = torch.nn.CrossEntropyLoss()\n",
    "input = torch.randn(3, 5, requires_grad=True)\n",
    "target = torch.empty(3, dtype=torch.long).random_(5)\n",
    "output = loss(input, target)"
   ]
  },
  {
   "cell_type": "code",
   "execution_count": 19,
   "id": "fixed-array",
   "metadata": {},
   "outputs": [
    {
     "data": {
      "text/plain": [
       "tensor([[-1.3380, -1.5622,  0.2470, -2.5529, -0.2602],\n",
       "        [ 0.5406, -0.7182, -1.1205, -0.8201, -0.7561],\n",
       "        [ 0.2732,  0.7713, -0.6576,  0.8543, -1.3784]], requires_grad=True)"
      ]
     },
     "execution_count": 19,
     "metadata": {},
     "output_type": "execute_result"
    }
   ],
   "source": [
    "input"
   ]
  },
  {
   "cell_type": "code",
   "execution_count": 20,
   "id": "expired-motor",
   "metadata": {},
   "outputs": [
    {
     "data": {
      "text/plain": [
       "tensor([4, 3, 1])"
      ]
     },
     "execution_count": 20,
     "metadata": {},
     "output_type": "execute_result"
    }
   ],
   "source": [
    "target"
   ]
  },
  {
   "cell_type": "code",
   "execution_count": 22,
   "id": "fabulous-flour",
   "metadata": {},
   "outputs": [],
   "source": [
    "m = torch.nn.Sigmoid()\n",
    "loss = torch.nn.BCELoss()\n",
    "input = torch.randn(3, requires_grad=True)\n",
    "target = torch.empty(3).random_(2)\n",
    "output = loss(m(input), target)"
   ]
  },
  {
   "cell_type": "code",
   "execution_count": 23,
   "id": "productive-madrid",
   "metadata": {},
   "outputs": [
    {
     "data": {
      "text/plain": [
       "tensor([-0.2614, -0.6342, -0.3514], requires_grad=True)"
      ]
     },
     "execution_count": 23,
     "metadata": {},
     "output_type": "execute_result"
    }
   ],
   "source": [
    "input"
   ]
  },
  {
   "cell_type": "code",
   "execution_count": 24,
   "id": "centered-jackson",
   "metadata": {},
   "outputs": [
    {
     "data": {
      "text/plain": [
       "tensor([0., 1., 1.])"
      ]
     },
     "execution_count": 24,
     "metadata": {},
     "output_type": "execute_result"
    }
   ],
   "source": [
    "target"
   ]
  },
  {
   "cell_type": "code",
   "execution_count": 26,
   "id": "smaller-shanghai",
   "metadata": {},
   "outputs": [],
   "source": [
    "loss = torch.nn.CrossEntropyLoss()\n",
    "input = torch.randn(3, 5, requires_grad=True)\n",
    "target = torch.empty(3, dtype=torch.long).random_(5)\n",
    "output = loss(input, target)"
   ]
  },
  {
   "cell_type": "code",
   "execution_count": 27,
   "id": "alternative-essex",
   "metadata": {},
   "outputs": [
    {
     "data": {
      "text/plain": [
       "tensor(2.0806, grad_fn=<NllLossBackward>)"
      ]
     },
     "execution_count": 27,
     "metadata": {},
     "output_type": "execute_result"
    }
   ],
   "source": [
    "output"
   ]
  },
  {
   "cell_type": "code",
   "execution_count": 28,
   "id": "exotic-massage",
   "metadata": {},
   "outputs": [
    {
     "data": {
      "text/plain": [
       "tensor([[-0.0093, -0.3117, -0.4509, -0.1809, -1.4805],\n",
       "        [-0.9836, -0.2253,  1.1149, -0.0768, -0.9962],\n",
       "        [-0.6079, -0.1123, -2.2882, -1.1137, -1.3450]], requires_grad=True)"
      ]
     },
     "execution_count": 28,
     "metadata": {},
     "output_type": "execute_result"
    }
   ],
   "source": [
    "input"
   ]
  },
  {
   "cell_type": "code",
   "execution_count": 29,
   "id": "actual-presentation",
   "metadata": {},
   "outputs": [
    {
     "data": {
      "text/plain": [
       "tensor([2, 0, 3])"
      ]
     },
     "execution_count": 29,
     "metadata": {},
     "output_type": "execute_result"
    }
   ],
   "source": [
    "target"
   ]
  },
  {
   "cell_type": "code",
   "execution_count": 30,
   "id": "adolescent-possible",
   "metadata": {},
   "outputs": [
    {
     "data": {
      "text/plain": [
       "tensor([2, 0, 3])"
      ]
     },
     "execution_count": 30,
     "metadata": {},
     "output_type": "execute_result"
    }
   ],
   "source": [
    "target"
   ]
  },
  {
   "cell_type": "code",
   "execution_count": 31,
   "id": "allied-artwork",
   "metadata": {},
   "outputs": [
    {
     "name": "stdout",
     "output_type": "stream",
     "text": [
      "tensor(2.4598)\n"
     ]
    }
   ],
   "source": [
    "import torch\n",
    "import torch.nn as nn\n",
    "from torch.autograd import Variable\n",
    "\n",
    "output = Variable(torch.rand(1,10))\n",
    "target = Variable(torch.LongTensor([1]))\n",
    "\n",
    "criterion = nn.CrossEntropyLoss()\n",
    "loss = criterion(output, target)\n",
    "print(loss)"
   ]
  },
  {
   "cell_type": "code",
   "execution_count": 32,
   "id": "presidential-publicity",
   "metadata": {},
   "outputs": [
    {
     "data": {
      "text/plain": [
       "tensor([[7.1111e-01, 3.7134e-01, 4.2188e-01, 9.3949e-01, 3.5060e-01, 2.4225e-01,\n",
       "         4.2464e-02, 7.3067e-01, 9.4832e-01, 6.4373e-05]])"
      ]
     },
     "execution_count": 32,
     "metadata": {},
     "output_type": "execute_result"
    }
   ],
   "source": [
    "output"
   ]
  },
  {
   "cell_type": "code",
   "execution_count": 33,
   "id": "gothic-vegetable",
   "metadata": {},
   "outputs": [
    {
     "data": {
      "text/plain": [
       "tensor([1])"
      ]
     },
     "execution_count": 33,
     "metadata": {},
     "output_type": "execute_result"
    }
   ],
   "source": [
    "target"
   ]
  },
  {
   "cell_type": "code",
   "execution_count": 35,
   "id": "reasonable-frequency",
   "metadata": {},
   "outputs": [],
   "source": [
    "input = torch.randn(3, 5, requires_grad=True)\n",
    "target = torch.randint(5, (3,), dtype=torch.int64)\n",
    "loss = torch.nn.functional.cross_entropy(input, target)"
   ]
  },
  {
   "cell_type": "code",
   "execution_count": 36,
   "id": "stunning-shower",
   "metadata": {},
   "outputs": [
    {
     "data": {
      "text/plain": [
       "tensor([[-1.6440,  0.1403,  0.6018,  1.0484, -0.0409],\n",
       "        [ 0.0140,  0.0413,  0.0205, -1.1846, -0.0962],\n",
       "        [ 0.5546,  0.7451,  0.0157, -1.9727,  0.9452]], requires_grad=True)"
      ]
     },
     "execution_count": 36,
     "metadata": {},
     "output_type": "execute_result"
    }
   ],
   "source": [
    "input"
   ]
  },
  {
   "cell_type": "code",
   "execution_count": 37,
   "id": "surgical-franchise",
   "metadata": {},
   "outputs": [
    {
     "data": {
      "text/plain": [
       "tensor([4, 3, 0])"
      ]
     },
     "execution_count": 37,
     "metadata": {},
     "output_type": "execute_result"
    }
   ],
   "source": [
    "target"
   ]
  },
  {
   "cell_type": "code",
   "execution_count": null,
   "id": "forward-constant",
   "metadata": {},
   "outputs": [],
   "source": []
  }
 ],
 "metadata": {
  "kernelspec": {
   "display_name": "Python [conda env:research] *",
   "language": "python",
   "name": "conda-env-research-py"
  },
  "language_info": {
   "codemirror_mode": {
    "name": "ipython",
    "version": 3
   },
   "file_extension": ".py",
   "mimetype": "text/x-python",
   "name": "python",
   "nbconvert_exporter": "python",
   "pygments_lexer": "ipython3",
   "version": "3.8.5"
  },
  "toc": {
   "base_numbering": 1,
   "nav_menu": {},
   "number_sections": true,
   "sideBar": true,
   "skip_h1_title": false,
   "title_cell": "Table of Contents",
   "title_sidebar": "Contents",
   "toc_cell": false,
   "toc_position": {},
   "toc_section_display": true,
   "toc_window_display": false
  }
 },
 "nbformat": 4,
 "nbformat_minor": 5
}
