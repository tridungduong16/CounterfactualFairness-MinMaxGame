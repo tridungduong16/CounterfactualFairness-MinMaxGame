{
 "cells": [
  {
   "cell_type": "code",
   "execution_count": 1,
   "id": "exterior-antenna",
   "metadata": {},
   "outputs": [],
   "source": [
    "import tensorflow as tf\n",
    "import torch "
   ]
  },
  {
   "cell_type": "code",
   "execution_count": 2,
   "id": "powerful-copper",
   "metadata": {},
   "outputs": [],
   "source": [
    "def _independent_straight_through_sampling(rationale_logits):\n",
    "    \"\"\"\n",
    "    Straight through sampling.\n",
    "    Outputs:\n",
    "        z -- shape (batch_size, sequence_length, 2)        \n",
    "    \"\"\"\n",
    "    z = tf.nn.softmax(rationale_logits)\n",
    "    z_hard = tf.cast(tf.equal(z, tf.reduce_max(z, -1, keep_dims=True)),\n",
    "                     z.dtype)\n",
    "    z = tf.stop_gradient(z_hard - z) + z\n",
    "\n",
    "    return z"
   ]
  },
  {
   "cell_type": "code",
   "execution_count": 4,
   "id": "equivalent-sitting",
   "metadata": {},
   "outputs": [
    {
     "name": "stdout",
     "output_type": "stream",
     "text": [
      "tensor([[0.6900, 0.3100],\n",
      "        [0.6457, 0.3543],\n",
      "        [0.5987, 0.4013]])\n",
      "\n",
      "\n",
      "tensor([[0.6900],\n",
      "        [0.6457],\n",
      "        [0.5987]])\n",
      "tensor([[1., 0.],\n",
      "        [1., 0.],\n",
      "        [1., 0.]])\n"
     ]
    },
    {
     "name": "stderr",
     "output_type": "stream",
     "text": [
      "<ipython-input-4-2a0d3a285849>:7: UserWarning: Implicit dimension choice for softmax has been deprecated. Change the call to include dim=X as an argument.\n",
      "  z = torch.nn.functional.softmax(rationale_logits)\n"
     ]
    }
   ],
   "source": [
    "rationale_logits = [\n",
    "    [0.9, 0.1],\n",
    "    [0.8, 0.2],\n",
    "    [0.7, 0.3]\n",
    "]\n",
    "rationale_logits = torch.tensor(rationale_logits)\n",
    "z = torch.nn.functional.softmax(rationale_logits)\n",
    "print(z)\n",
    "print(\"\\n\")\n",
    "reduce_max = torch.max(z, dim = 1, keepdim=False).values.reshape(-1,1)\n",
    "print(reduce_max)\n",
    "equal = z.eq(reduce_max)\n",
    "z_hard = equal.type(torch.FloatTensor)\n",
    "z_soft = (z_hard - z).detach_() + z\n",
    "print(z_soft)"
   ]
  },
  {
   "cell_type": "code",
   "execution_count": 26,
   "id": "patent-beverage",
   "metadata": {},
   "outputs": [
    {
     "data": {
      "text/plain": [
       "torch.Size([3, 2])"
      ]
     },
     "execution_count": 26,
     "metadata": {},
     "output_type": "execute_result"
    }
   ],
   "source": [
    "rationale_logits.shape"
   ]
  },
  {
   "cell_type": "code",
   "execution_count": 29,
   "id": "civilian-sheep",
   "metadata": {},
   "outputs": [],
   "source": [
    "weight = torch.tensor([1,0])"
   ]
  },
  {
   "cell_type": "code",
   "execution_count": 30,
   "id": "developed-painting",
   "metadata": {},
   "outputs": [
    {
     "data": {
      "text/plain": [
       "tensor([[0.9000, 0.0000],\n",
       "        [0.8000, 0.0000],\n",
       "        [0.7000, 0.0000]])"
      ]
     },
     "execution_count": 30,
     "metadata": {},
     "output_type": "execute_result"
    }
   ],
   "source": [
    "rationale_logits*weight"
   ]
  },
  {
   "cell_type": "code",
   "execution_count": 6,
   "id": "likely-orientation",
   "metadata": {},
   "outputs": [
    {
     "data": {
      "text/plain": [
       "(array([2, 5, 7]), tensor([2, 5, 7]))"
      ]
     },
     "execution_count": 6,
     "metadata": {},
     "output_type": "execute_result"
    }
   ],
   "source": [
    "import numpy as np\n",
    "X = np.array([1,2,3,4,5,6,7,8,9])\n",
    "Y = torch.tensor(X)\n",
    "index_ = [1,4,6]\n",
    "X[index_], Y[index_]"
   ]
  },
  {
   "cell_type": "code",
   "execution_count": 8,
   "id": "incorrect-stuff",
   "metadata": {},
   "outputs": [],
   "source": [
    "from torch.autograd import Variable\n"
   ]
  },
  {
   "cell_type": "code",
   "execution_count": 11,
   "id": "positive-radius",
   "metadata": {},
   "outputs": [
    {
     "ename": "RuntimeError",
     "evalue": "Only Tensors of floating point and complex dtype can require gradients",
     "output_type": "error",
     "traceback": [
      "\u001b[0;31m---------------------------------------------------------------------------\u001b[0m",
      "\u001b[0;31mRuntimeError\u001b[0m                              Traceback (most recent call last)",
      "\u001b[0;32m<ipython-input-11-1f0929acd038>\u001b[0m in \u001b[0;36m<module>\u001b[0;34m\u001b[0m\n\u001b[0;32m----> 1\u001b[0;31m \u001b[0mVariable\u001b[0m\u001b[0;34m(\u001b[0m\u001b[0mtorch\u001b[0m\u001b[0;34m.\u001b[0m\u001b[0mtensor\u001b[0m\u001b[0;34m(\u001b[0m\u001b[0;34m[\u001b[0m\u001b[0;36m1\u001b[0m\u001b[0;34m]\u001b[0m\u001b[0;34m*\u001b[0m\u001b[0;36m10\u001b[0m\u001b[0;34m)\u001b[0m\u001b[0;34m,\u001b[0m \u001b[0mrequires_grad\u001b[0m\u001b[0;34m=\u001b[0m\u001b[0;32mTrue\u001b[0m\u001b[0;34m)\u001b[0m\u001b[0;34m\u001b[0m\u001b[0;34m\u001b[0m\u001b[0m\n\u001b[0m",
      "\u001b[0;31mRuntimeError\u001b[0m: Only Tensors of floating point and complex dtype can require gradients"
     ]
    }
   ],
   "source": [
    "Variable(torch.tensor([1]*10), requires_grad=True)"
   ]
  },
  {
   "cell_type": "code",
   "execution_count": 14,
   "id": "palestinian-miller",
   "metadata": {},
   "outputs": [],
   "source": [
    "W = torch.nn.Parameter(torch.randn(5))\n",
    "W.requires_grad = True"
   ]
  },
  {
   "cell_type": "code",
   "execution_count": 15,
   "id": "physical-collins",
   "metadata": {},
   "outputs": [
    {
     "data": {
      "text/plain": [
       "Parameter containing:\n",
       "tensor([ 0.0492, -0.2416, -0.4058,  1.7760,  0.9588], requires_grad=True)"
      ]
     },
     "execution_count": 15,
     "metadata": {},
     "output_type": "execute_result"
    }
   ],
   "source": [
    "W"
   ]
  },
  {
   "cell_type": "code",
   "execution_count": 16,
   "id": "understood-printer",
   "metadata": {},
   "outputs": [
    {
     "data": {
      "text/plain": [
       "0.8856730000000002"
      ]
     },
     "execution_count": 16,
     "metadata": {},
     "output_type": "execute_result"
    }
   ],
   "source": [
    "1.3219*0.67"
   ]
  },
  {
   "cell_type": "code",
   "execution_count": null,
   "id": "matched-discovery",
   "metadata": {},
   "outputs": [],
   "source": []
  }
 ],
 "metadata": {
  "kernelspec": {
   "display_name": "Python [conda env:research] *",
   "language": "python",
   "name": "conda-env-research-py"
  },
  "language_info": {
   "codemirror_mode": {
    "name": "ipython",
    "version": 3
   },
   "file_extension": ".py",
   "mimetype": "text/x-python",
   "name": "python",
   "nbconvert_exporter": "python",
   "pygments_lexer": "ipython3",
   "version": "3.8.5"
  },
  "toc": {
   "base_numbering": 1,
   "nav_menu": {},
   "number_sections": true,
   "sideBar": true,
   "skip_h1_title": false,
   "title_cell": "Table of Contents",
   "title_sidebar": "Contents",
   "toc_cell": false,
   "toc_position": {},
   "toc_section_display": true,
   "toc_window_display": false
  }
 },
 "nbformat": 4,
 "nbformat_minor": 5
}
